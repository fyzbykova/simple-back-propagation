{
  "cells": [
    {
      "cell_type": "code",
      "execution_count": null,
      "metadata": {
        "id": "vazMo168_mij"
      },
      "outputs": [],
      "source": [
        "import numpy as np\n",
        "import pandas as pd\n",
        "import matplotlib.pyplot as plt\n",
        "\n",
        "import random\n",
        "import math"
      ]
    },
    {
      "cell_type": "code",
      "execution_count": null,
      "metadata": {
        "id": "TOxLk-9E_mij"
      },
      "outputs": [],
      "source": [
        "# функция сигмоиды\n",
        "def f(x):\n",
        "    s = 1 / (1 + math.exp(-x))\n",
        "    return s"
      ]
    },
    {
      "cell_type": "code",
      "source": [
        "# производная\n",
        "def df (x):\n",
        "    df = f(x) * (1-f(x))\n",
        "    return df"
      ],
      "metadata": {
        "id": "_44a_YlsavXt"
      },
      "execution_count": null,
      "outputs": []
    },
    {
      "cell_type": "code",
      "execution_count": null,
      "metadata": {
        "id": "hZpjadtB_mik"
      },
      "outputs": [],
      "source": [
        "# входы нейронов\n",
        "x1 = [0, 0, 0, 0, 1, 1, 1, 1]\n",
        "x2 = [0, 0, 1, 1, 0, 0, 1, 1]\n",
        "x3 = [0, 1, 0, 1, 0, 1, 0, 1]\n",
        "\n",
        "# эталонный выход сети\n",
        "A0 = [0, 0, 0, 0, 0, 0, 0, 1]"
      ]
    },
    {
      "cell_type": "code",
      "execution_count": null,
      "metadata": {
        "colab": {
          "base_uri": "https://localhost:8080/"
        },
        "id": "LxMOmiAB_mil",
        "outputId": "629f66f5-544c-4817-e20f-25d66a08f0cf"
      },
      "outputs": [
        {
          "output_type": "stream",
          "name": "stdout",
          "text": [
            "Начальные значения\n",
            "w14 =  0.05110378916595765\n",
            "w15 =  0.016292738125657416\n",
            "w24 =  -0.058964665112944695\n",
            "w25 =  0.028704357242954837\n",
            "w34 =  -0.07902905334496808\n",
            "w35 =  0.07122319525797405\n",
            "w46 =  0.06386202091758658\n",
            "w56 =  0.02337876858214638\n"
          ]
        }
      ],
      "source": [
        "x = [0, 0, 0, 0, 0, 0]\n",
        "y = [0, 0, 0]\n",
        "\n",
        "# Заполняем случайно ячейки с весами от -0,1 до +0,1\n",
        "w14 = 0.2*random.random() - 0.1\n",
        "w15 = 0.2*random.random() - 0.1\n",
        "w24 = 0.2*random.random() - 0.1\n",
        "w25 = 0.2*random.random() - 0.1\n",
        "w34 = 0.2*random.random() - 0.1\n",
        "w35 = 0.2*random.random() - 0.1\n",
        "w46 = 0.2*random.random() - 0.1\n",
        "w56 = 0.2*random.random() - 0.1\n",
        "\n",
        "print('Начальные значения')\n",
        "print('w14 = ', w14)\n",
        "print('w15 = ', w15)\n",
        "print('w24 = ', w24)\n",
        "print('w25 = ', w25)\n",
        "print('w34 = ', w34)\n",
        "print('w35 = ', w35)\n",
        "print('w46 = ', w46)\n",
        "print('w56 = ', w56)\n",
        "\n",
        "v = 0.8  # задаём скорость обучения\n",
        "Ep = 150 # задаём количество эпох обучения\n",
        "n = 8 # количество примеров в ОВ\n",
        "E6 = [] # список для ошибок\n",
        "j = 1\n",
        "E = []"
      ]
    },
    {
      "cell_type": "code",
      "source": [
        "# цикл по эпохам\n",
        "while j < Ep:\n",
        "    print ('Эпоха ', j)\n",
        "    # цикл по примерам обучающей выборки\n",
        "    for i in range(1, n-1):\n",
        "        x[0] = x1[i]\n",
        "        x[1] = x2[i]\n",
        "        x[2] = x3[i]\n",
        "        A = A0[i]\n",
        "\n",
        "        x[3] = x[0] * w14 + x[1] * w24 + x[2] * w34\n",
        "        y[0] = f(x[3])\n",
        "\n",
        "        x[4] = x[0] * w15 + x[1] * w25 + x[2] * w35\n",
        "        y[1] = f(x[4])\n",
        "\n",
        "        x[5] = y[0] * w46 + y[1] * w56\n",
        "        y[2] = f(x[5])\n",
        "\n",
        "        # E6.append(0.5*(A - y[2])*(A - y[2]))\n",
        "        E6.append((A - y[2])*(A - y[2]))\n",
        "\n",
        "        dw = E6[j - 1] * df(y[2]) # ошибка весов последнего слоя\n",
        "        w46 = w46 - y[0] * dw * v # коррекци весов последнего слоя\n",
        "        w56 = w56 - y[1] * dw * v # коррекци весов последнего слоя\n",
        "\n",
        "        E4 = w46 * dw # ошибка 4 нейрона\n",
        "        dw4 = E4 * df(y[0]) # cкорректированная ошибка 4 нейрона\n",
        "\n",
        "        # коррекция весов сигналов, входящих в 4 нейрон\n",
        "        w14 = w14 - x[0] * dw4 * v\n",
        "        w24 = w24 - x[1] * dw4 * v\n",
        "        w34 = w34 - x[2] * dw4 * v\n",
        "\n",
        "        E5 = w56 * dw # ошибка 5 нейрона\n",
        "        dw5 = E5 * df(y[1]) # cкорректированная ошибка 5 нейрона\n",
        "\n",
        "        # коррекция весов сигналов, входящих в 5 нейрон\n",
        "        w15 = w15 - x[0] * dw5 * v\n",
        "        w25 = w25 - x[1] * dw5 * v\n",
        "        w35 = w35 - x[2] * dw5 * v\n",
        "\n",
        "    E.append(E6[-1])\n",
        "    if E6[-1] < 0.001:\n",
        "        j = 150\n",
        "\n",
        "    print('X6 = ', x[5])\n",
        "    print('Y(6)', y[2])\n",
        "    print('Ошибка', E6[-1])\n",
        "    print('w14 = ', w14)\n",
        "    print('w15 = ', w15)\n",
        "    print('w24 = ', w24)\n",
        "    print('w25 = ', w25)\n",
        "    print('w34 = ', w34)\n",
        "    print('w35 = ', w35)\n",
        "    print('w46 = ', w46)\n",
        "    print('w56 = ', w56)\n",
        "\n",
        "    j = j + 1"
      ],
      "metadata": {
        "id": "nBBxnSe0buJy",
        "colab": {
          "base_uri": "https://localhost:8080/"
        },
        "outputId": "11d5072f-7ec5-4e82-c4eb-533751100ef4"
      },
      "execution_count": null,
      "outputs": [
        {
          "output_type": "stream",
          "name": "stdout",
          "text": [
            "Эпоха  1\n",
            "X6 =  -0.08046414189683439\n",
            "Y(6) 0.47989481090602737\n",
            "Ошибка 0.23029902953453177\n",
            "w14 =  0.053038937183613556\n",
            "w15 =  0.019848436438295647\n",
            "w24 =  -0.05815513309150007\n",
            "w25 =  0.0310940425684863\n",
            "w34 =  -0.07877837248925464\n",
            "w35 =  0.07303138299698522\n",
            "w46 =  -0.08021032868634956\n",
            "w56 =  -0.12821642663707206\n",
            "Эпоха  2\n",
            "X6 =  -0.22950920111391349\n",
            "Y(6) 0.44287324001949063\n",
            "Ошибка 0.19613670672536135\n",
            "w14 =  0.059806637364408624\n",
            "w15 =  0.028453517456931088\n",
            "w24 =  -0.052468722182041676\n",
            "w25 =  0.03855312406702637\n",
            "w34 =  -0.07363514583103241\n",
            "w35 =  0.07991174474892454\n",
            "w46 =  -0.2224016210172069\n",
            "w56 =  -0.27799700497527696\n",
            "Эпоха  3\n",
            "X6 =  -0.38027238493427723\n",
            "Y(6) 0.406061202811945\n",
            "Ошибка 0.16488570042908354\n",
            "w14 =  0.071174305663782\n",
            "w15 =  0.041863632424279915\n",
            "w24 =  -0.04213750392079555\n",
            "w25 =  0.05083890853618275\n",
            "w34 =  -0.06383013202487436\n",
            "w35 =  0.09162349905375636\n",
            "w46 =  -0.3629953516081878\n",
            "w56 =  -0.42624910405452165\n",
            "Эпоха  4\n",
            "X6 =  -0.535227635687386\n",
            "Y(6) 0.3692984525262197\n",
            "Ошибка 0.13638134703826052\n",
            "w14 =  0.08694098821496073\n",
            "w15 =  0.059870263714486525\n",
            "w24 =  -0.02736625762578389\n",
            "w25 =  0.06773972382922278\n",
            "w34 =  -0.0495693751132969\n",
            "w35 =  0.10795405891149755\n",
            "w46 =  -0.5025699107171824\n",
            "w56 =  -0.5735687004957153\n",
            "Эпоха  5\n",
            "X6 =  -0.696128727621119\n",
            "Y(6) 0.33267109689184443\n",
            "Ошибка 0.11067005870722295\n",
            "w14 =  0.10682502550750267\n",
            "w15 =  0.08217261004429038\n",
            "w24 =  -0.008430503716685278\n",
            "w25 =  0.08896214635002607\n",
            "w34 =  -0.031124978515588098\n",
            "w35 =  0.12861407505160075\n",
            "w46 =  -0.6410310685905644\n",
            "w56 =  -0.7198400709655196\n",
            "Эпоха  6\n",
            "X6 =  -0.8649418103599382\n",
            "Y(6) 0.29630789495070403\n",
            "Ошибка 0.08779836861011746\n",
            "w14 =  0.130618333867267\n",
            "w15 =  0.1085527600417251\n",
            "w24 =  0.014459308555788752\n",
            "w25 =  0.1142864378679414\n",
            "w34 =  -0.008708543501608716\n",
            "w35 =  0.15338295346436212\n",
            "w46 =  -0.7788595330373915\n",
            "w56 =  -0.8655516839917412\n",
            "Эпоха  7\n",
            "X6 =  -1.0433508275069205\n",
            "Y(6) 0.26050396713672463\n",
            "Ошибка 0.06786231689397171\n",
            "w14 =  0.15808953921150326\n",
            "w15 =  0.1387653337302957\n",
            "w24 =  0.0410729671272934\n",
            "w25 =  0.14346911456713193\n",
            "w34 =  0.017450147088308512\n",
            "w35 =  0.1820180560860114\n",
            "w46 =  -0.916283909072819\n",
            "w56 =  -1.0109231483704664\n",
            "Эпоха  8\n",
            "X6 =  -1.2329879636936092\n",
            "Y(6) 0.2256588901070066\n",
            "Ошибка 0.050921934684326084\n",
            "w14 =  0.18905799848669974\n",
            "w15 =  0.17261953909106179\n",
            "w24 =  0.07122855701111715\n",
            "w25 =  0.17631852823760735\n",
            "w34 =  0.04716824641641887\n",
            "w35 =  0.2143270722665068\n",
            "w46 =  -1.0536958777894\n",
            "w56 =  -1.1563436424836855\n",
            "Эпоха  9\n",
            "X6 =  -1.4347455231168063\n",
            "Y(6) 0.19236035346307764\n",
            "Ошибка 0.03700250558444017\n",
            "w14 =  0.22322900304870744\n",
            "w15 =  0.2097994309375868\n",
            "w24 =  0.10463634204886772\n",
            "w25 =  0.21252499674877287\n",
            "w34 =  0.08015829368668997\n",
            "w35 =  0.2500033530939237\n",
            "w46 =  -1.1909542471898416\n",
            "w56 =  -1.3016354361348677\n",
            "Эпоха  10\n",
            "X6 =  -1.6490089796394929\n",
            "Y(6) 0.16124293379596247\n",
            "Ошибка 0.025999283699129135\n",
            "w14 =  0.2602858968043316\n",
            "w15 =  0.24996610583486975\n",
            "w24 =  0.14098353264211783\n",
            "w25 =  0.2517550086723596\n",
            "w34 =  0.11610933544665702\n",
            "w35 =  0.28871612851813544\n",
            "w46 =  -1.3278854085755816\n",
            "w56 =  -1.4465836139659327\n",
            "Эпоха  11\n",
            "X6 =  -1.8760606947839453\n",
            "Y(6) 0.13284200586261274\n",
            "Ошибка 0.01764699852160244\n",
            "w14 =  0.29996985734187576\n",
            "w15 =  0.2928438284361145\n",
            "w24 =  0.18001127654451654\n",
            "w25 =  0.2937340810389553\n",
            "w34 =  0.15476251263767127\n",
            "w35 =  0.33019170366495687\n",
            "w46 =  -1.464518099778386\n",
            "w56 =  -1.5911857577634894\n",
            "Эпоха  12\n",
            "X6 =  -2.11642962942403\n",
            "Y(6) 0.10751017397841948\n",
            "Ошибка 0.011558437508870026\n",
            "w14 =  0.3421495974812373\n",
            "w15 =  0.33829416643465815\n",
            "w24 =  0.22158358431698078\n",
            "w25 =  0.33831972242018393\n",
            "w34 =  0.19597954499111395\n",
            "w35 =  0.37428576700036315\n",
            "w46 =  -1.601216811434133\n",
            "w56 =  -1.7357939035654302\n",
            "Эпоха  13\n",
            "X6 =  -2.3704261630646704\n",
            "Y(6) 0.08545582757330965\n",
            "Ошибка 0.007302698466239229\n",
            "w14 =  0.386693724586701\n",
            "w15 =  0.3861777348238147\n",
            "w24 =  0.26556520000059597\n",
            "w25 =  0.38536957398834015\n",
            "w34 =  0.23962346767955933\n",
            "w35 =  0.42085485658790667\n",
            "w46 =  -1.7382226002451147\n",
            "w56 =  -1.8806288868233634\n",
            "Эпоха  14\n",
            "X6 =  -2.637736684890298\n",
            "Y(6) 0.06674888715736119\n",
            "Ошибка 0.004455413936746137\n",
            "w14 =  0.4334103883995326\n",
            "w15 =  0.4362900498332713\n",
            "w24 =  0.31176237379895905\n",
            "w25 =  0.434678784599153\n",
            "w34 =  0.28550001428437344\n",
            "w35 =  0.4696945402666471\n",
            "w46 =  -1.87551556815391\n",
            "w56 =  -2.0256359266049038\n",
            "Эпоха  15\n",
            "X6 =  -2.91655177657974\n",
            "Y(6) 0.05134138860031502\n",
            "Ошибка 0.0026359381834085574\n",
            "w14 =  0.4818627174484715\n",
            "w15 =  0.4881650928185744\n",
            "w24 =  0.35974183678391086\n",
            "w25 =  0.48578826627962984\n",
            "w34 =  0.3331785381419961\n",
            "w35 =  0.5203501986351152\n",
            "w46 =  -2.0123653669100032\n",
            "w56 =  -2.1700127122115105\n",
            "Эпоха  16\n",
            "X6 =  -3.2047083715310105\n",
            "Y(6) 0.038988922391582304\n",
            "Ошибка 0.001520136069256828\n",
            "w14 =  0.5316870604913029\n",
            "w15 =  0.5414173021051341\n",
            "w24 =  0.4091398990547212\n",
            "w25 =  0.5383154306047333\n",
            "w34 =  0.3822961634458904\n",
            "w35 =  0.5724416960477436\n",
            "w46 =  -2.148271835403344\n",
            "w56 =  -2.3132059943478547\n",
            "Эпоха  17\n",
            "X6 =  -3.5004710186858414\n",
            "Y(6) 0.029298831816268543\n",
            "Ошибка 0.0008584215457979899\n",
            "w14 =  0.5826620577075338\n",
            "w15 =  0.5958143245110529\n",
            "w24 =  0.45973145307917335\n",
            "w25 =  0.5920264070352774\n",
            "w34 =  0.4326266188293004\n",
            "w35 =  0.6257351889997498\n",
            "w46 =  -2.283090960856241\n",
            "w56 =  -2.4550440287314674\n"
          ]
        }
      ]
    },
    {
      "cell_type": "code",
      "source": [
        "j = 17\n",
        "axis_x = list(range(1, j+1))\n",
        "axis_y = E\n",
        "axis_x"
      ],
      "metadata": {
        "id": "3W72sT0iCK6D",
        "colab": {
          "base_uri": "https://localhost:8080/"
        },
        "outputId": "ee163d49-95cb-4668-b40f-956e5ca7d4e4"
      },
      "execution_count": null,
      "outputs": [
        {
          "output_type": "execute_result",
          "data": {
            "text/plain": [
              "[1, 2, 3, 4, 5, 6, 7, 8, 9, 10, 11, 12, 13, 14, 15, 16, 17]"
            ]
          },
          "metadata": {},
          "execution_count": 10
        }
      ]
    },
    {
      "cell_type": "code",
      "source": [
        "plt.title('ошибка')\n",
        "plt.plot(axis_x,axis_y)\n",
        "plt.show()"
      ],
      "metadata": {
        "colab": {
          "base_uri": "https://localhost:8080/",
          "height": 452
        },
        "id": "4VK-8FmXBlP9",
        "outputId": "d49b643f-6260-4e05-d06e-d2788c739a8f"
      },
      "execution_count": null,
      "outputs": [
        {
          "output_type": "display_data",
          "data": {
            "text/plain": [
              "<Figure size 640x480 with 1 Axes>"
            ],
            "image/png": "[encoded data removed]"
          },
          "metadata": {}
        }
      ]
    }
  ],
  "metadata": {
    "kernelspec": {
      "display_name": "Python 3",
      "language": "python",
      "name": "python3"
    },
    "language_info": {
      "codemirror_mode": {
        "name": "ipython",
        "version": 3
      },
      "file_extension": ".py",
      "mimetype": "text/x-python",
      "name": "python",
      "nbconvert_exporter": "python",
      "pygments_lexer": "ipython3",
      "version": "3.8.5"
    },
    "colab": {
      "provenance": []
    }
  },
  "nbformat": 4,
  "nbformat_minor": 0
}